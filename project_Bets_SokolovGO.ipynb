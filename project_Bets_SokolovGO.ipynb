{
 "cells": [
  {
   "cell_type": "markdown",
   "metadata": {},
   "source": [
    "### Итоговый мини-проект по курсу \"Программирование на языке Python\""
   ]
  },
  {
   "cell_type": "markdown",
   "metadata": {},
   "source": [
    "#### Выполнил: *Соколов Герман Олегович*"
   ]
  },
  {
   "cell_type": "markdown",
   "metadata": {},
   "source": [
    "**Задача: **\n",
    "\n",
    "* Дополнить существующий dataset данными из интернета\n",
    "\n",
    "Исходный dataset - результаты теннисных матчей ATP среди мужчин в 2015 году\n",
    "\n",
    "Дополнительные данные - архив коэффициентов ставок на теннисные матчи в 2015 году\n",
    "\n",
    "**Основные шаги: **\n",
    "\n",
    "* Написать функцию для \"автоматического хождения\" по страницам и \"собирания\" коэффициентов с сайта за разные даты 2015 года\n",
    "* Обработка собранной информации:\n",
    " - создание pandas датафрейма\n",
    " - определение победителя и проигравшего\n",
    " - определение значения переменной target - сбылись или нет прогнозы людей ставивших на матч (1 или 0)\n",
    "* Некоторая визуализация данных по ставкам\n",
    "* Добавление данных в исходный датафрейм"
   ]
  },
  {
   "cell_type": "code",
   "execution_count": 1,
   "metadata": {
    "collapsed": true
   },
   "outputs": [],
   "source": [
    "import datetime\n",
    "import requests\n",
    "import pandas as pd\n",
    "import numpy as np\n",
    "import matplotlib.pyplot as plt\n",
    "from bs4 import BeautifulSoup\n",
    "%matplotlib inline"
   ]
  },
  {
   "cell_type": "markdown",
   "metadata": {},
   "source": [
    "Так как этот мини-проект из серии скучных, но необходимых (для собственных целей) и рисунков будет немного, то хотя бы добавлю пока эту картинку, чтобы было попроще жить:"
   ]
  },
  {
   "cell_type": "code",
   "execution_count": 2,
   "metadata": {
    "collapsed": false
   },
   "outputs": [
    {
     "data": {
      "text/html": [
       "<img src=\"https://www.firestock.ru/wp-content/uploads/2013/09/firestock_girl_tennis_03092013-700x775.jpg\" width=\"400\"/>"
      ],
      "text/plain": [
       "<IPython.core.display.Image object>"
      ]
     },
     "execution_count": 2,
     "metadata": {},
     "output_type": "execute_result"
    }
   ],
   "source": [
    "from IPython.display import Image\n",
    "from IPython.core.display import HTML \n",
    "Image(url= \"https://www.firestock.ru/wp-content/uploads/2013/09/firestock_girl_tennis_03092013-700x775.jpg\", \n",
    "      width = 400)"
   ]
  },
  {
   "cell_type": "markdown",
   "metadata": {},
   "source": [
    "Определяю начальную и конечную даты для \"собирания\" коэффициентов:"
   ]
  },
  {
   "cell_type": "code",
   "execution_count": 3,
   "metadata": {
    "collapsed": false
   },
   "outputs": [],
   "source": [
    "d1 = datetime.date(2015, 1, 1)\n",
    "d2 = datetime.date(2015, 12, 31)"
   ]
  },
  {
   "cell_type": "markdown",
   "metadata": {},
   "source": [
    "Функция, которая будет заниматься автоматическим хождением по сайтам и извлечением нужной информации:"
   ]
  },
  {
   "cell_type": "code",
   "execution_count": 4,
   "metadata": {
    "collapsed": false
   },
   "outputs": [],
   "source": [
    "def create_df(date_start, date_end):\n",
    "    matches = {} # Сначала собираю данные в словарик (ключ - пара игроков в матче, значения - коэфф, счет, дата)\n",
    "    days = (date_end - date_start).days\n",
    "    for d in range(0, days + 1):\n",
    "        search_date = date_start + datetime.timedelta(d)\n",
    "        url_date = search_date.isoformat() # В названиях страниц меняется только последнее значение - это дата\n",
    "        url = requests.get('http://data.nowgoal.com/tennis/oddsHistory.htm?date=' + url_date)\n",
    "        if url.ok == True: \n",
    "            print(url_date)\n",
    "            names, bets, scores = [], [], []\n",
    "            page = BeautifulSoup(url.text, 'html.parser')\n",
    "            if page.html.body.table != None:  # Страница может работать, но данных там может не быть\n",
    "                lines = page.html.body.table.findAll('a')\n",
    "                count = 0\n",
    "            else:\n",
    "                continue\n",
    "            for line in lines:\n",
    "                if line.has_attr('target') and \\\n",
    "                   len(line.text) > 0:\n",
    "                    try:\n",
    "                        bet365 = float(lines[count + 1].text)\n",
    "                    except ValueError:\n",
    "                        bet365 = \"\"\n",
    "                    if \"&\" in line.parent.text:\n",
    "                        if line.parent.text == lines[count+1].parent.text:\n",
    "                            count += 1\n",
    "                            continue\n",
    "                        else:\n",
    "                            name = line.parent.text\n",
    "                    else:\n",
    "                        name = line.text\n",
    "                    \n",
    "                    names.append(name.lower())\n",
    "                    bets.append(bet365)\n",
    "                    scores.append(int(line.parent.parent.find('b').text))\n",
    "                count += 1\n",
    "            for i in range(0, len(names)-1, 2):\n",
    "                match = (names[i], names[i + 1])\n",
    "                matches[match] = [bets[i], bets[i + 1], scores[i], scores[i+1], url_date]\n",
    "    \n",
    "    # Для удобства представляю словарик со значениями в виде датафрейма:\n",
    "    df = pd.DataFrame(columns = [\"date\", \"player1_name\", \"player2_name\", \n",
    "                             \"player1_k\", \"player2_k\", \"player1_g\", \"player2_g\"])\n",
    "    df[\"date\"] = [list(x)[-1] for x in matches.values()]\n",
    "    df[\"player1_name\"] = [list(x)[0] for x in matches.keys()]\n",
    "    df[\"player2_name\"] = [list(x)[1] for x in matches.keys()]\n",
    "    df[\"player1_k\"] = [list(x)[0] for x in matches.values()] # коэффициент игрока 1\n",
    "    df[\"player2_k\"] = [list(x)[1] for x in matches.values()]\n",
    "    df[\"player1_g\"] = [list(x)[2] for x in matches.values()] # кол-во геймов выигранных игроком 1\n",
    "    df[\"player2_g\"] = [list(x)[3] for x in matches.values()]\n",
    "    df.date = pd.to_datetime(df.date.astype(str), format='%Y-%m-%d')\n",
    "    df.sort_values([\"date\"], inplace=True)\n",
    "    \n",
    "    return df"
   ]
  },
  {
   "cell_type": "markdown",
   "metadata": {},
   "source": [
    "Удобно было бы обработать полученный датафрейм, чтобы понять кто победитель, и оправдались ли ожидания играющих на тотализаторе: "
   ]
  },
  {
   "cell_type": "code",
   "execution_count": 5,
   "metadata": {
    "collapsed": false
   },
   "outputs": [],
   "source": [
    "def process_df(df):\n",
    "    pd.options.mode.chained_assignment = None # выключаю ненужные предупреждения pandas\n",
    "    # удаляю игры в парах (2 на 2) - они не нужны:\n",
    "    df = df.loc[~((df.player1_name.str.contains(\"&\")) | (df.player2_name.str.contains(\"&\"))), :] \n",
    "    df = df.loc[(df.player1_k != \"\") & (df.player2_k != \"\"), :] # избавляюсь от отсутствующих коэффициентов\n",
    "    df[[\"winner_name\", \"loser_name\", \"winner_k\", \"loser_k\"]] = \\\n",
    "    df.loc[df.player1_g > df.player2_g, [\"player1_name\", \"player2_name\", \"player1_k\", \"player2_k\"]]\n",
    "\n",
    "    df.ix[df.player1_g < df.player2_g, \"winner_name\"] = df.ix[df.player1_g < df.player2_g, \"player2_name\"]\n",
    "    df.ix[df.player1_g < df.player2_g, \"loser_name\"] = df.ix[df.player1_g < df.player2_g, \"player1_name\"]\n",
    "    df.ix[df.player1_g < df.player2_g, \"winner_k\"] = df.ix[df.player1_g < df.player2_g, \"player2_k\"]\n",
    "    df.ix[df.player1_g < df.player2_g, \"loser_k\"] = df.ix[df.player1_g < df.player2_g, \"player1_k\"]\n",
    "\n",
    "    # если у игрока меньше коэффициент -> на него было поставлено больше денег -> зрители ожидают, что он выиграет\n",
    "    # если ожидания оправдались, то target == 1 (действительно нужно было делать ставку), иначе = 0\n",
    "    df[\"target\"] = 0\n",
    "    df.loc[df.winner_k < df.loser_k, \"target\"] = 1 \n",
    "\n",
    "    df = pd.DataFrame(df, columns = [\"date\", 'winner_name', \"loser_name\", \"winner_k\", \"loser_k\", \"target\"])\n",
    "    df.winner_k = pd.to_numeric(df[\"winner_k\"])\n",
    "    df.loser_k = pd.to_numeric(df[\"loser_k\"])\n",
    "    df.index = list(range(df.shape[0]))\n",
    "    \n",
    "    return df"
   ]
  },
  {
   "cell_type": "markdown",
   "metadata": {},
   "source": [
    "Запускаем функцию ***create_df*** для сбора информации за 2015 год"
   ]
  },
  {
   "cell_type": "code",
   "execution_count": 6,
   "metadata": {
    "collapsed": true
   },
   "outputs": [
    {
     "name": "stdout",
     "output_type": "stream",
     "text": [
      "2015-01-01\n",
      "2015-01-02\n",
      "2015-01-03\n",
      "2015-01-04\n",
      "2015-01-05\n",
      "2015-01-06\n",
      "2015-01-07\n",
      "2015-01-08\n",
      "2015-01-09\n",
      "2015-01-10\n",
      "2015-01-11\n",
      "2015-01-12\n",
      "2015-01-13\n",
      "2015-01-14\n",
      "2015-01-15\n",
      "2015-01-16\n",
      "2015-01-17\n",
      "2015-01-18\n",
      "2015-01-19\n",
      "2015-01-20\n",
      "2015-01-21\n",
      "2015-01-22\n",
      "2015-01-23\n",
      "2015-01-24\n",
      "2015-01-25\n",
      "2015-01-26\n",
      "2015-01-27\n",
      "2015-01-28\n",
      "2015-01-29\n",
      "2015-01-30\n",
      "2015-01-31\n",
      "2015-02-01\n",
      "2015-02-02\n",
      "2015-02-03\n",
      "2015-02-04\n",
      "2015-02-05\n",
      "2015-02-06\n",
      "2015-02-07\n",
      "2015-02-08\n",
      "2015-02-09\n",
      "2015-02-10\n",
      "2015-02-11\n",
      "2015-02-12\n",
      "2015-02-13\n",
      "2015-02-14\n",
      "2015-02-15\n",
      "2015-02-16\n",
      "2015-02-17\n",
      "2015-02-18\n",
      "2015-02-19\n",
      "2015-02-20\n",
      "2015-02-21\n",
      "2015-02-22\n",
      "2015-02-23\n",
      "2015-02-24\n",
      "2015-02-25\n",
      "2015-02-26\n",
      "2015-02-27\n",
      "2015-02-28\n",
      "2015-03-01\n",
      "2015-03-02\n",
      "2015-03-03\n",
      "2015-03-04\n",
      "2015-03-05\n",
      "2015-03-06\n",
      "2015-03-07\n",
      "2015-03-08\n",
      "2015-03-09\n",
      "2015-03-10\n",
      "2015-03-11\n",
      "2015-03-12\n",
      "2015-03-13\n",
      "2015-03-14\n",
      "2015-03-15\n",
      "2015-03-16\n",
      "2015-03-17\n",
      "2015-03-18\n",
      "2015-03-19\n",
      "2015-03-20\n",
      "2015-03-21\n",
      "2015-03-22\n",
      "2015-03-23\n",
      "2015-03-24\n",
      "2015-03-25\n",
      "2015-03-26\n",
      "2015-03-27\n",
      "2015-03-28\n",
      "2015-03-29\n",
      "2015-03-30\n",
      "2015-03-31\n",
      "2015-04-01\n",
      "2015-04-02\n",
      "2015-04-03\n",
      "2015-04-04\n",
      "2015-04-05\n",
      "2015-04-06\n",
      "2015-04-07\n",
      "2015-04-08\n",
      "2015-04-09\n",
      "2015-04-10\n",
      "2015-04-11\n",
      "2015-04-12\n",
      "2015-04-13\n",
      "2015-04-14\n",
      "2015-04-15\n",
      "2015-04-16\n",
      "2015-04-17\n",
      "2015-04-18\n",
      "2015-04-19\n",
      "2015-04-20\n",
      "2015-04-21\n",
      "2015-04-22\n",
      "2015-04-23\n",
      "2015-04-24\n",
      "2015-04-25\n",
      "2015-04-26\n",
      "2015-04-27\n",
      "2015-04-28\n",
      "2015-04-29\n",
      "2015-04-30\n",
      "2015-05-01\n",
      "2015-05-02\n",
      "2015-05-03\n",
      "2015-05-04\n",
      "2015-05-05\n",
      "2015-05-06\n",
      "2015-05-07\n",
      "2015-05-08\n",
      "2015-05-09\n",
      "2015-05-10\n",
      "2015-05-11\n",
      "2015-05-12\n",
      "2015-05-13\n",
      "2015-05-14\n",
      "2015-05-15\n",
      "2015-05-16\n",
      "2015-05-17\n",
      "2015-05-18\n",
      "2015-05-19\n",
      "2015-05-20\n",
      "2015-05-21\n",
      "2015-05-22\n",
      "2015-05-23\n",
      "2015-05-24\n",
      "2015-05-25\n",
      "2015-05-26\n",
      "2015-05-27\n",
      "2015-05-28\n",
      "2015-05-29\n",
      "2015-05-30\n",
      "2015-05-31\n",
      "2015-06-01\n",
      "2015-06-02\n",
      "2015-06-03\n",
      "2015-06-04\n",
      "2015-06-05\n",
      "2015-06-06\n",
      "2015-06-07\n",
      "2015-06-08\n",
      "2015-06-09\n",
      "2015-06-10\n",
      "2015-06-11\n",
      "2015-06-12\n",
      "2015-06-13\n",
      "2015-06-14\n",
      "2015-06-15\n",
      "2015-06-16\n",
      "2015-06-17\n",
      "2015-06-18\n",
      "2015-06-19\n",
      "2015-06-20\n",
      "2015-06-21\n",
      "2015-06-22\n",
      "2015-06-23\n",
      "2015-06-24\n",
      "2015-06-25\n",
      "2015-06-26\n",
      "2015-06-27\n",
      "2015-06-28\n",
      "2015-06-29\n",
      "2015-06-30\n",
      "2015-07-01\n",
      "2015-07-02\n",
      "2015-07-03\n",
      "2015-07-04\n",
      "2015-07-05\n",
      "2015-07-06\n",
      "2015-07-07\n",
      "2015-07-08\n",
      "2015-07-09\n",
      "2015-07-10\n",
      "2015-07-11\n",
      "2015-07-12\n",
      "2015-07-13\n",
      "2015-07-14\n",
      "2015-07-15\n",
      "2015-07-16\n",
      "2015-07-17\n",
      "2015-07-18\n",
      "2015-07-19\n",
      "2015-07-20\n",
      "2015-07-21\n",
      "2015-07-22\n",
      "2015-07-23\n",
      "2015-07-24\n",
      "2015-07-25\n",
      "2015-07-26\n",
      "2015-07-27\n",
      "2015-07-28\n",
      "2015-07-29\n",
      "2015-07-30\n",
      "2015-07-31\n",
      "2015-08-01\n",
      "2015-08-02\n",
      "2015-08-03\n",
      "2015-08-04\n",
      "2015-08-05\n",
      "2015-08-06\n",
      "2015-08-07\n",
      "2015-08-08\n",
      "2015-08-09\n",
      "2015-08-10\n",
      "2015-08-11\n",
      "2015-08-12\n",
      "2015-08-13\n",
      "2015-08-14\n",
      "2015-08-15\n",
      "2015-08-16\n",
      "2015-08-17\n",
      "2015-08-18\n",
      "2015-08-19\n",
      "2015-08-20\n",
      "2015-08-21\n",
      "2015-08-22\n",
      "2015-08-23\n",
      "2015-08-24\n",
      "2015-08-25\n",
      "2015-08-26\n",
      "2015-08-27\n",
      "2015-08-28\n",
      "2015-08-29\n",
      "2015-08-30\n",
      "2015-08-31\n",
      "2015-09-01\n",
      "2015-09-02\n",
      "2015-09-03\n",
      "2015-09-04\n",
      "2015-09-05\n",
      "2015-09-06\n",
      "2015-09-07\n",
      "2015-09-08\n",
      "2015-09-09\n",
      "2015-09-10\n",
      "2015-09-11\n",
      "2015-09-12\n",
      "2015-09-13\n",
      "2015-09-14\n",
      "2015-09-15\n",
      "2015-09-16\n",
      "2015-09-17\n",
      "2015-09-18\n",
      "2015-09-19\n",
      "2015-09-20\n",
      "2015-09-21\n",
      "2015-09-22\n",
      "2015-09-23\n",
      "2015-09-24\n",
      "2015-09-25\n",
      "2015-09-26\n",
      "2015-09-27\n",
      "2015-09-28\n",
      "2015-09-29\n",
      "2015-09-30\n",
      "2015-10-01\n",
      "2015-10-02\n",
      "2015-10-03\n",
      "2015-10-04\n",
      "2015-10-05\n",
      "2015-10-06\n",
      "2015-10-07\n",
      "2015-10-08\n",
      "2015-10-09\n",
      "2015-10-10\n",
      "2015-10-11\n",
      "2015-10-12\n",
      "2015-10-13\n",
      "2015-10-14\n",
      "2015-10-15\n",
      "2015-10-16\n",
      "2015-10-17\n",
      "2015-10-18\n",
      "2015-10-19\n",
      "2015-10-20\n",
      "2015-10-21\n",
      "2015-10-22\n",
      "2015-10-23\n",
      "2015-10-24\n",
      "2015-10-25\n",
      "2015-10-26\n",
      "2015-10-27\n",
      "2015-10-28\n",
      "2015-10-29\n",
      "2015-10-30\n",
      "2015-10-31\n",
      "2015-11-01\n",
      "2015-11-02\n",
      "2015-11-03\n",
      "2015-11-04\n",
      "2015-11-05\n",
      "2015-11-06\n",
      "2015-11-07\n",
      "2015-11-08\n",
      "2015-11-09\n",
      "2015-11-10\n",
      "2015-11-11\n",
      "2015-11-12\n",
      "2015-11-13\n",
      "2015-11-14\n",
      "2015-11-15\n",
      "2015-11-16\n",
      "2015-11-17\n",
      "2015-11-18\n",
      "2015-11-19\n",
      "2015-11-20\n",
      "2015-11-21\n",
      "2015-11-22\n",
      "2015-11-23\n",
      "2015-11-24\n",
      "2015-11-25\n",
      "2015-11-26\n",
      "2015-11-27\n",
      "2015-11-28\n",
      "2015-11-29\n",
      "2015-11-30\n",
      "2015-12-01\n",
      "2015-12-02\n",
      "2015-12-03\n",
      "2015-12-04\n",
      "2015-12-05\n",
      "2015-12-06\n",
      "2015-12-07\n",
      "2015-12-08\n",
      "2015-12-09\n",
      "2015-12-10\n",
      "2015-12-11\n",
      "2015-12-12\n",
      "2015-12-13\n",
      "2015-12-14\n",
      "2015-12-15\n",
      "2015-12-16\n",
      "2015-12-17\n",
      "2015-12-18\n",
      "2015-12-19\n",
      "2015-12-20\n",
      "2015-12-21\n",
      "2015-12-22\n",
      "2015-12-23\n",
      "2015-12-24\n",
      "2015-12-25\n",
      "2015-12-26\n",
      "2015-12-27\n",
      "2015-12-28\n",
      "2015-12-29\n",
      "2015-12-30\n",
      "2015-12-31\n"
     ]
    }
   ],
   "source": [
    "df = create_df(d1, d2)"
   ]
  },
  {
   "cell_type": "markdown",
   "metadata": {},
   "source": [
    "Так выглядит полученный dataset:"
   ]
  },
  {
   "cell_type": "code",
   "execution_count": 7,
   "metadata": {
    "collapsed": false
   },
   "outputs": [
    {
     "data": {
      "text/html": [
       "<div>\n",
       "<table border=\"1\" class=\"dataframe\">\n",
       "  <thead>\n",
       "    <tr style=\"text-align: right;\">\n",
       "      <th></th>\n",
       "      <th>date</th>\n",
       "      <th>player1_name</th>\n",
       "      <th>player2_name</th>\n",
       "      <th>player1_k</th>\n",
       "      <th>player2_k</th>\n",
       "      <th>player1_g</th>\n",
       "      <th>player2_g</th>\n",
       "    </tr>\n",
       "  </thead>\n",
       "  <tbody>\n",
       "    <tr>\n",
       "      <th>5591</th>\n",
       "      <td>2015-01-01</td>\n",
       "      <td>milos raonic</td>\n",
       "      <td>fabio fognini</td>\n",
       "      <td>1.33</td>\n",
       "      <td>3.25</td>\n",
       "      <td>2</td>\n",
       "      <td>0</td>\n",
       "    </tr>\n",
       "    <tr>\n",
       "      <th>2996</th>\n",
       "      <td>2015-01-01</td>\n",
       "      <td>richard gasquet</td>\n",
       "      <td>john isner</td>\n",
       "      <td></td>\n",
       "      <td></td>\n",
       "      <td>2</td>\n",
       "      <td>0</td>\n",
       "    </tr>\n",
       "    <tr>\n",
       "      <th>4894</th>\n",
       "      <td>2015-01-01</td>\n",
       "      <td>tomas berdych</td>\n",
       "      <td>david ferrer</td>\n",
       "      <td>1.72</td>\n",
       "      <td>2</td>\n",
       "      <td>2</td>\n",
       "      <td>1</td>\n",
       "    </tr>\n",
       "    <tr>\n",
       "      <th>4661</th>\n",
       "      <td>2015-01-02</td>\n",
       "      <td>stan wawrinka</td>\n",
       "      <td>nicolas almagro</td>\n",
       "      <td>1.25</td>\n",
       "      <td>3.75</td>\n",
       "      <td>2</td>\n",
       "      <td>0</td>\n",
       "    </tr>\n",
       "    <tr>\n",
       "      <th>1777</th>\n",
       "      <td>2015-01-02</td>\n",
       "      <td>tomas berdych</td>\n",
       "      <td>milos raonic</td>\n",
       "      <td></td>\n",
       "      <td></td>\n",
       "      <td>2</td>\n",
       "      <td>0</td>\n",
       "    </tr>\n",
       "  </tbody>\n",
       "</table>\n",
       "</div>"
      ],
      "text/plain": [
       "           date     player1_name     player2_name player1_k player2_k  \\\n",
       "5591 2015-01-01     milos raonic    fabio fognini      1.33      3.25   \n",
       "2996 2015-01-01  richard gasquet       john isner                       \n",
       "4894 2015-01-01    tomas berdych     david ferrer      1.72         2   \n",
       "4661 2015-01-02    stan wawrinka  nicolas almagro      1.25      3.75   \n",
       "1777 2015-01-02    tomas berdych     milos raonic                       \n",
       "\n",
       "      player1_g  player2_g  \n",
       "5591          2          0  \n",
       "2996          2          0  \n",
       "4894          2          1  \n",
       "4661          2          0  \n",
       "1777          2          0  "
      ]
     },
     "execution_count": 7,
     "metadata": {},
     "output_type": "execute_result"
    }
   ],
   "source": [
    "df.head()"
   ]
  },
  {
   "cell_type": "markdown",
   "metadata": {},
   "source": [
    "Теперь делаем обработку с помощью функции ***process_df*** : "
   ]
  },
  {
   "cell_type": "code",
   "execution_count": 8,
   "metadata": {
    "collapsed": false
   },
   "outputs": [
    {
     "data": {
      "text/html": [
       "<div>\n",
       "<table border=\"1\" class=\"dataframe\">\n",
       "  <thead>\n",
       "    <tr style=\"text-align: right;\">\n",
       "      <th></th>\n",
       "      <th>date</th>\n",
       "      <th>winner_name</th>\n",
       "      <th>loser_name</th>\n",
       "      <th>winner_k</th>\n",
       "      <th>loser_k</th>\n",
       "      <th>target</th>\n",
       "    </tr>\n",
       "  </thead>\n",
       "  <tbody>\n",
       "    <tr>\n",
       "      <th>0</th>\n",
       "      <td>2015-01-01</td>\n",
       "      <td>milos raonic</td>\n",
       "      <td>fabio fognini</td>\n",
       "      <td>1.33</td>\n",
       "      <td>3.25</td>\n",
       "      <td>1</td>\n",
       "    </tr>\n",
       "    <tr>\n",
       "      <th>1</th>\n",
       "      <td>2015-01-01</td>\n",
       "      <td>tomas berdych</td>\n",
       "      <td>david ferrer</td>\n",
       "      <td>1.72</td>\n",
       "      <td>2.00</td>\n",
       "      <td>1</td>\n",
       "    </tr>\n",
       "    <tr>\n",
       "      <th>2</th>\n",
       "      <td>2015-01-02</td>\n",
       "      <td>stan wawrinka</td>\n",
       "      <td>nicolas almagro</td>\n",
       "      <td>1.25</td>\n",
       "      <td>3.75</td>\n",
       "      <td>1</td>\n",
       "    </tr>\n",
       "    <tr>\n",
       "      <th>3</th>\n",
       "      <td>2015-01-04</td>\n",
       "      <td>n. vikhlyantseva</td>\n",
       "      <td>anna-lena friedsam</td>\n",
       "      <td>3.50</td>\n",
       "      <td>1.28</td>\n",
       "      <td>0</td>\n",
       "    </tr>\n",
       "    <tr>\n",
       "      <th>4</th>\n",
       "      <td>2015-01-04</td>\n",
       "      <td>varvara lepchenko</td>\n",
       "      <td>samantha stosur</td>\n",
       "      <td>3.00</td>\n",
       "      <td>1.36</td>\n",
       "      <td>0</td>\n",
       "    </tr>\n",
       "  </tbody>\n",
       "</table>\n",
       "</div>"
      ],
      "text/plain": [
       "        date        winner_name          loser_name  winner_k  loser_k  target\n",
       "0 2015-01-01       milos raonic       fabio fognini      1.33     3.25       1\n",
       "1 2015-01-01      tomas berdych        david ferrer      1.72     2.00       1\n",
       "2 2015-01-02      stan wawrinka     nicolas almagro      1.25     3.75       1\n",
       "3 2015-01-04   n. vikhlyantseva  anna-lena friedsam      3.50     1.28       0\n",
       "4 2015-01-04  varvara lepchenko     samantha stosur      3.00     1.36       0"
      ]
     },
     "execution_count": 8,
     "metadata": {},
     "output_type": "execute_result"
    }
   ],
   "source": [
    "df_proc = process_df(df)\n",
    "df_proc.head()"
   ]
  },
  {
   "cell_type": "markdown",
   "metadata": {},
   "source": [
    "Посмотрим, как распределены коэффициенты для \"среднего\" случая, то есть когда нет супер - явного фаворита (такие игры вообще-то неинтересны в принципе). Для этого ограничиваю макисмальное значение коэффициента значением **5**:"
   ]
  },
  {
   "cell_type": "code",
   "execution_count": 9,
   "metadata": {
    "collapsed": false,
    "scrolled": false
   },
   "outputs": [
    {
     "data": {
      "text/plain": [
       "<matplotlib.legend.Legend at 0x105595240>"
      ]
     },
     "execution_count": 9,
     "metadata": {},
     "output_type": "execute_result"
    },
    {
     "data": {
      "image/png": "[encoded data removed]",
      "text/plain": [
       "<matplotlib.figure.Figure at 0x1055b8978>"
      ]
     },
     "metadata": {},
     "output_type": "display_data"
    }
   ],
   "source": [
    "y_win = df_proc.winner_k[(df_proc.winner_k <= 5) & (df_proc.loser_k <= 5)]\n",
    "y_los = df_proc.loser_k[(df_proc.winner_k <= 5) & (df_proc.loser_k <= 5)]\n",
    "plt.style.use(\"ggplot\")\n",
    "plt.figure(figsize = (8,6))\n",
    "plt.hist(y_win.values, alpha = 0.6, bins = 10)\n",
    "plt.hist(y_los.values, alpha = 0.6, bins = 10)\n",
    "plt.title(\"Distribution of coefficients\")\n",
    "plt.xlabel(\"coefficient value\")\n",
    "plt.ylabel(\"n players\")\n",
    "plt.legend([\"winners\", \"losers\"])"
   ]
  },
  {
   "cell_type": "markdown",
   "metadata": {},
   "source": [
    "Видно, что у победивших ожидаемо ниже коэффициенты - почти половина победивших имеет коэффициенты ниже 1.5\n",
    "\n",
    "Также можно посмотреть все комбинации коэффициентов в матчах используя scatterplot:"
   ]
  },
  {
   "cell_type": "code",
   "execution_count": 10,
   "metadata": {
    "collapsed": false
   },
   "outputs": [
    {
     "data": {
      "text/plain": [
       "(1, 5)"
      ]
     },
     "execution_count": 10,
     "metadata": {},
     "output_type": "execute_result"
    },
    {
     "data": {
      "image/png": "[encoded data removed]",
      "text/plain": [
       "<matplotlib.figure.Figure at 0x10d2f0e80>"
      ]
     },
     "metadata": {},
     "output_type": "display_data"
    }
   ],
   "source": [
    "plt.figure(figsize = (8,6))\n",
    "plt.scatter(y_win, y_los, s = 15)\n",
    "plt.title(\"Scatterplot of coefficients\")\n",
    "plt.xlabel(\"winner's coefficient\")\n",
    "plt.ylabel(\"loser's coefficient\")\n",
    "plt.xlim([1, 5])"
   ]
  },
  {
   "cell_type": "markdown",
   "metadata": {},
   "source": [
    "Видно, что присутствует некоторое количество аутлаеров, а такого быть не должно, иначе сайты - тотализаторы что-то делают не так, во что трудно поверить. Скорей всего данный \"косяк\" связан с неправильными данными на сайте (это действительно оказывается так после ручной проверки сайта)."
   ]
  },
  {
   "cell_type": "code",
   "execution_count": 11,
   "metadata": {
    "collapsed": false,
    "scrolled": false
   },
   "outputs": [
    {
     "data": {
      "text/html": [
       "<div>\n",
       "<table border=\"1\" class=\"dataframe\">\n",
       "  <thead>\n",
       "    <tr style=\"text-align: right;\">\n",
       "      <th></th>\n",
       "      <th>date</th>\n",
       "      <th>winner_name</th>\n",
       "      <th>loser_name</th>\n",
       "      <th>winner_k</th>\n",
       "      <th>loser_k</th>\n",
       "      <th>target</th>\n",
       "    </tr>\n",
       "  </thead>\n",
       "  <tbody>\n",
       "    <tr>\n",
       "      <th>2753</th>\n",
       "      <td>2015-07-15</td>\n",
       "      <td>jan hernych</td>\n",
       "      <td>ryan harrison</td>\n",
       "      <td>1.66</td>\n",
       "      <td>1.57</td>\n",
       "      <td>0</td>\n",
       "    </tr>\n",
       "    <tr>\n",
       "      <th>2758</th>\n",
       "      <td>2015-07-15</td>\n",
       "      <td>yuichi sugita</td>\n",
       "      <td>adrien bossel</td>\n",
       "      <td>2.25</td>\n",
       "      <td>5.50</td>\n",
       "      <td>1</td>\n",
       "    </tr>\n",
       "    <tr>\n",
       "      <th>2760</th>\n",
       "      <td>2015-07-15</td>\n",
       "      <td>sorana cirstea</td>\n",
       "      <td>patricia maria tig</td>\n",
       "      <td>1.90</td>\n",
       "      <td>3.75</td>\n",
       "      <td>1</td>\n",
       "    </tr>\n",
       "    <tr>\n",
       "      <th>2762</th>\n",
       "      <td>2015-07-15</td>\n",
       "      <td>john-patrick smith</td>\n",
       "      <td>yuichi sugita</td>\n",
       "      <td>1.83</td>\n",
       "      <td>2.62</td>\n",
       "      <td>1</td>\n",
       "    </tr>\n",
       "  </tbody>\n",
       "</table>\n",
       "</div>"
      ],
      "text/plain": [
       "           date         winner_name          loser_name  winner_k  loser_k  \\\n",
       "2753 2015-07-15         jan hernych       ryan harrison      1.66     1.57   \n",
       "2758 2015-07-15       yuichi sugita       adrien bossel      2.25     5.50   \n",
       "2760 2015-07-15      sorana cirstea  patricia maria tig      1.90     3.75   \n",
       "2762 2015-07-15  john-patrick smith       yuichi sugita      1.83     2.62   \n",
       "\n",
       "      target  \n",
       "2753       0  \n",
       "2758       1  \n",
       "2760       1  \n",
       "2762       1  "
      ]
     },
     "execution_count": 11,
     "metadata": {},
     "output_type": "execute_result"
    }
   ],
   "source": [
    "df_proc.loc[((df_proc.winner_k < 1.7) & (df_proc.loser_k < 1.9)) | \n",
    "            ((df_proc.winner_k > 1.7) & (df_proc.loser_k > 2.5)), :]"
   ]
  },
  {
   "cell_type": "markdown",
   "metadata": {},
   "source": [
    "Да, видно что аутлаеры связаны с каким-то одним днем (15 июля 2015), значит его можно вообще убрать из датафрейма."
   ]
  },
  {
   "cell_type": "code",
   "execution_count": 12,
   "metadata": {
    "collapsed": false,
    "scrolled": false
   },
   "outputs": [
    {
     "data": {
      "text/plain": [
       "(1, 5)"
      ]
     },
     "execution_count": 12,
     "metadata": {},
     "output_type": "execute_result"
    },
    {
     "data": {
      "image/png": "[encoded data removed]",
      "text/plain": [
       "<matplotlib.figure.Figure at 0x1117ebd68>"
      ]
     },
     "metadata": {},
     "output_type": "display_data"
    }
   ],
   "source": [
    "df_proc = df_proc[df_proc.date != pd.datetime(year=2015, month = 7, day = 15)]\n",
    "df_proc.index = list(range(df_proc.shape[0]))\n",
    "y_win = df_proc.winner_k[(df_proc.winner_k <= 5) & (df_proc.loser_k <= 5)]\n",
    "y_los = df_proc.loser_k[(df_proc.winner_k <= 5) & (df_proc.loser_k <= 5)]\n",
    "plt.figure(figsize = (8,6))\n",
    "plt.scatter(y_win, y_los, s = 15)\n",
    "plt.title(\"Scatterplot of coefficients\")\n",
    "plt.xlabel(\"winner's coefficient\")\n",
    "plt.ylabel(\"loser's coefficient\")\n",
    "plt.xlim([1, 5])"
   ]
  },
  {
   "cell_type": "markdown",
   "metadata": {},
   "source": [
    "Так-то лучше!"
   ]
  },
  {
   "cell_type": "markdown",
   "metadata": {},
   "source": [
    "Теперь можно добавить собранные данные к первоначальному датасету:"
   ]
  },
  {
   "cell_type": "code",
   "execution_count": 13,
   "metadata": {
    "collapsed": true
   },
   "outputs": [],
   "source": [
    "url_atp_main = \"https://raw.githubusercontent.com/german3d/tennis_atp/master/atp_matches_2015.csv\"\n",
    "url_atp_chal = \"https://raw.githubusercontent.com/german3d/tennis_atp/master/atp_matches_qual_chall_2015.csv\"\n",
    "url_atp_fut = 'https://raw.githubusercontent.com/german3d/tennis_atp/master/atp_matches_futures_2015.csv'\n",
    "\n",
    "df_atp = pd.read_csv(url_atp_main)"
   ]
  },
  {
   "cell_type": "code",
   "execution_count": 14,
   "metadata": {
    "collapsed": false
   },
   "outputs": [
    {
     "data": {
      "text/html": [
       "<div>\n",
       "<table border=\"1\" class=\"dataframe\">\n",
       "  <thead>\n",
       "    <tr style=\"text-align: right;\">\n",
       "      <th></th>\n",
       "      <th>tourney_id</th>\n",
       "      <th>tourney_name</th>\n",
       "      <th>surface</th>\n",
       "      <th>draw_size</th>\n",
       "      <th>tourney_level</th>\n",
       "      <th>tourney_date</th>\n",
       "      <th>match_num</th>\n",
       "      <th>winner_id</th>\n",
       "      <th>winner_seed</th>\n",
       "      <th>winner_entry</th>\n",
       "      <th>...</th>\n",
       "      <th>w_bpFaced</th>\n",
       "      <th>l_ace</th>\n",
       "      <th>l_df</th>\n",
       "      <th>l_svpt</th>\n",
       "      <th>l_1stIn</th>\n",
       "      <th>l_1stWon</th>\n",
       "      <th>l_2ndWon</th>\n",
       "      <th>l_SvGms</th>\n",
       "      <th>l_bpSaved</th>\n",
       "      <th>l_bpFaced</th>\n",
       "    </tr>\n",
       "  </thead>\n",
       "  <tbody>\n",
       "    <tr>\n",
       "      <th>0</th>\n",
       "      <td>2015-329</td>\n",
       "      <td>Tokyo</td>\n",
       "      <td>Hard</td>\n",
       "      <td>32</td>\n",
       "      <td>A</td>\n",
       "      <td>20151005</td>\n",
       "      <td>1</td>\n",
       "      <td>104527</td>\n",
       "      <td>1</td>\n",
       "      <td>NaN</td>\n",
       "      <td>...</td>\n",
       "      <td>1</td>\n",
       "      <td>2</td>\n",
       "      <td>2</td>\n",
       "      <td>71</td>\n",
       "      <td>46</td>\n",
       "      <td>33</td>\n",
       "      <td>10</td>\n",
       "      <td>10</td>\n",
       "      <td>2</td>\n",
       "      <td>5</td>\n",
       "    </tr>\n",
       "    <tr>\n",
       "      <th>1</th>\n",
       "      <td>2015-329</td>\n",
       "      <td>Tokyo</td>\n",
       "      <td>Hard</td>\n",
       "      <td>32</td>\n",
       "      <td>A</td>\n",
       "      <td>20151005</td>\n",
       "      <td>2</td>\n",
       "      <td>105147</td>\n",
       "      <td>NaN</td>\n",
       "      <td>WC</td>\n",
       "      <td>...</td>\n",
       "      <td>14</td>\n",
       "      <td>1</td>\n",
       "      <td>4</td>\n",
       "      <td>96</td>\n",
       "      <td>52</td>\n",
       "      <td>25</td>\n",
       "      <td>23</td>\n",
       "      <td>13</td>\n",
       "      <td>12</td>\n",
       "      <td>19</td>\n",
       "    </tr>\n",
       "    <tr>\n",
       "      <th>2</th>\n",
       "      <td>2015-329</td>\n",
       "      <td>Tokyo</td>\n",
       "      <td>Hard</td>\n",
       "      <td>32</td>\n",
       "      <td>A</td>\n",
       "      <td>20151005</td>\n",
       "      <td>3</td>\n",
       "      <td>105572</td>\n",
       "      <td>NaN</td>\n",
       "      <td>Q</td>\n",
       "      <td>...</td>\n",
       "      <td>7</td>\n",
       "      <td>15</td>\n",
       "      <td>7</td>\n",
       "      <td>128</td>\n",
       "      <td>74</td>\n",
       "      <td>60</td>\n",
       "      <td>27</td>\n",
       "      <td>18</td>\n",
       "      <td>9</td>\n",
       "      <td>11</td>\n",
       "    </tr>\n",
       "    <tr>\n",
       "      <th>3</th>\n",
       "      <td>2015-329</td>\n",
       "      <td>Tokyo</td>\n",
       "      <td>Hard</td>\n",
       "      <td>32</td>\n",
       "      <td>A</td>\n",
       "      <td>20151005</td>\n",
       "      <td>4</td>\n",
       "      <td>105311</td>\n",
       "      <td>NaN</td>\n",
       "      <td>NaN</td>\n",
       "      <td>...</td>\n",
       "      <td>6</td>\n",
       "      <td>9</td>\n",
       "      <td>5</td>\n",
       "      <td>85</td>\n",
       "      <td>42</td>\n",
       "      <td>27</td>\n",
       "      <td>21</td>\n",
       "      <td>13</td>\n",
       "      <td>4</td>\n",
       "      <td>8</td>\n",
       "    </tr>\n",
       "    <tr>\n",
       "      <th>4</th>\n",
       "      <td>2015-329</td>\n",
       "      <td>Tokyo</td>\n",
       "      <td>Hard</td>\n",
       "      <td>32</td>\n",
       "      <td>A</td>\n",
       "      <td>20151005</td>\n",
       "      <td>5</td>\n",
       "      <td>104468</td>\n",
       "      <td>3</td>\n",
       "      <td>NaN</td>\n",
       "      <td>...</td>\n",
       "      <td>6</td>\n",
       "      <td>0</td>\n",
       "      <td>5</td>\n",
       "      <td>61</td>\n",
       "      <td>33</td>\n",
       "      <td>24</td>\n",
       "      <td>10</td>\n",
       "      <td>10</td>\n",
       "      <td>1</td>\n",
       "      <td>5</td>\n",
       "    </tr>\n",
       "  </tbody>\n",
       "</table>\n",
       "<p>5 rows × 49 columns</p>\n",
       "</div>"
      ],
      "text/plain": [
       "  tourney_id tourney_name surface  draw_size tourney_level  tourney_date  \\\n",
       "0   2015-329        Tokyo    Hard         32             A      20151005   \n",
       "1   2015-329        Tokyo    Hard         32             A      20151005   \n",
       "2   2015-329        Tokyo    Hard         32             A      20151005   \n",
       "3   2015-329        Tokyo    Hard         32             A      20151005   \n",
       "4   2015-329        Tokyo    Hard         32             A      20151005   \n",
       "\n",
       "   match_num  winner_id  winner_seed winner_entry    ...    w_bpFaced l_ace  \\\n",
       "0          1     104527            1          NaN    ...            1     2   \n",
       "1          2     105147          NaN           WC    ...           14     1   \n",
       "2          3     105572          NaN            Q    ...            7    15   \n",
       "3          4     105311          NaN          NaN    ...            6     9   \n",
       "4          5     104468            3          NaN    ...            6     0   \n",
       "\n",
       "   l_df l_svpt  l_1stIn  l_1stWon  l_2ndWon  l_SvGms  l_bpSaved l_bpFaced  \n",
       "0     2     71       46        33        10       10          2         5  \n",
       "1     4     96       52        25        23       13         12        19  \n",
       "2     7    128       74        60        27       18          9        11  \n",
       "3     5     85       42        27        21       13          4         8  \n",
       "4     5     61       33        24        10       10          1         5  \n",
       "\n",
       "[5 rows x 49 columns]"
      ]
     },
     "execution_count": 14,
     "metadata": {},
     "output_type": "execute_result"
    }
   ],
   "source": [
    "df_atp.head()"
   ]
  },
  {
   "cell_type": "markdown",
   "metadata": {},
   "source": [
    "В датасете много лишних параметров, поэтому использую только необходимые столбцы:"
   ]
  },
  {
   "cell_type": "code",
   "execution_count": 15,
   "metadata": {
    "collapsed": false
   },
   "outputs": [],
   "source": [
    "columns_to_use = [\"surface\", \"tourney_level\", \"tourney_date\", \"winner_name\", \"loser_name\", \n",
    "                  \"winner_ht\", \"winner_age\", \"winner_rank\", \"winner_rank_points\", \n",
    "                  \"loser_ht\", \"loser_age\", \"loser_rank\", \"loser_rank_points\"]\n",
    "\n",
    "df_atp = pd.DataFrame(df_atp, columns=columns_to_use)\n",
    "\n",
    "for url in [url_atp_chal, url_atp_fut]:\n",
    "    df_temp = pd.read_csv(url)\n",
    "    df_temp = pd.DataFrame(df_temp, columns = columns_to_use)\n",
    "    df_atp = pd.concat([df_atp, df_temp], axis=0, join='outer', ignore_index = True)\n",
    "\n",
    "df_atp.tourney_date = pd.to_datetime(df_atp.tourney_date.astype(str), format='%Y%m%d')\n",
    "df_atp.sort_values([\"tourney_date\"], inplace=True)\n",
    "df_atp.dropna(inplace = True)\n",
    "df_atp.index = list(range(df_atp.shape[0]))\n",
    "df_atp.winner_name = df_atp.winner_name.str.lower()\n",
    "df_atp.loser_name = df_atp.loser_name.str.lower()"
   ]
  },
  {
   "cell_type": "markdown",
   "metadata": {},
   "source": [
    "Добавление новых столбцов:"
   ]
  },
  {
   "cell_type": "code",
   "execution_count": 16,
   "metadata": {
    "collapsed": false
   },
   "outputs": [],
   "source": [
    "df_atp = pd.merge(df_atp, df_proc, on=[\"winner_name\", \"loser_name\"])\n",
    "df_atp.drop(\"date\", axis=1, inplace=True)\n",
    "df_atp.drop_duplicates(subset = [\"winner_name\", \"loser_name\", \"winner_k\", \"loser_k\"], inplace=True)"
   ]
  },
  {
   "cell_type": "markdown",
   "metadata": {},
   "source": [
    "**И наконец-то финальный набор с данными получен!**"
   ]
  },
  {
   "cell_type": "code",
   "execution_count": 17,
   "metadata": {
    "collapsed": false
   },
   "outputs": [
    {
     "data": {
      "text/html": [
       "<div>\n",
       "<table border=\"1\" class=\"dataframe\">\n",
       "  <thead>\n",
       "    <tr style=\"text-align: right;\">\n",
       "      <th></th>\n",
       "      <th>surface</th>\n",
       "      <th>tourney_level</th>\n",
       "      <th>tourney_date</th>\n",
       "      <th>winner_name</th>\n",
       "      <th>loser_name</th>\n",
       "      <th>winner_ht</th>\n",
       "      <th>winner_age</th>\n",
       "      <th>winner_rank</th>\n",
       "      <th>winner_rank_points</th>\n",
       "      <th>loser_ht</th>\n",
       "      <th>loser_age</th>\n",
       "      <th>loser_rank</th>\n",
       "      <th>loser_rank_points</th>\n",
       "      <th>winner_k</th>\n",
       "      <th>loser_k</th>\n",
       "      <th>target</th>\n",
       "    </tr>\n",
       "  </thead>\n",
       "  <tbody>\n",
       "    <tr>\n",
       "      <th>0</th>\n",
       "      <td>Hard</td>\n",
       "      <td>A</td>\n",
       "      <td>2015-01-04</td>\n",
       "      <td>james duckworth</td>\n",
       "      <td>gilles simon</td>\n",
       "      <td>183</td>\n",
       "      <td>22.956879</td>\n",
       "      <td>125</td>\n",
       "      <td>430</td>\n",
       "      <td>183</td>\n",
       "      <td>30.023272</td>\n",
       "      <td>21</td>\n",
       "      <td>1730</td>\n",
       "      <td>4.50</td>\n",
       "      <td>1.18</td>\n",
       "      <td>0</td>\n",
       "    </tr>\n",
       "    <tr>\n",
       "      <th>1</th>\n",
       "      <td>Hard</td>\n",
       "      <td>A</td>\n",
       "      <td>2015-01-04</td>\n",
       "      <td>grigor dimitrov</td>\n",
       "      <td>martin klizan</td>\n",
       "      <td>188</td>\n",
       "      <td>23.641342</td>\n",
       "      <td>11</td>\n",
       "      <td>3645</td>\n",
       "      <td>190</td>\n",
       "      <td>25.486653</td>\n",
       "      <td>34</td>\n",
       "      <td>1094</td>\n",
       "      <td>1.28</td>\n",
       "      <td>3.50</td>\n",
       "      <td>1</td>\n",
       "    </tr>\n",
       "    <tr>\n",
       "      <th>2</th>\n",
       "      <td>Hard</td>\n",
       "      <td>A</td>\n",
       "      <td>2015-01-04</td>\n",
       "      <td>roger federer</td>\n",
       "      <td>james duckworth</td>\n",
       "      <td>185</td>\n",
       "      <td>33.409993</td>\n",
       "      <td>2</td>\n",
       "      <td>9625</td>\n",
       "      <td>183</td>\n",
       "      <td>22.956879</td>\n",
       "      <td>125</td>\n",
       "      <td>430</td>\n",
       "      <td>1.05</td>\n",
       "      <td>11.00</td>\n",
       "      <td>1</td>\n",
       "    </tr>\n",
       "    <tr>\n",
       "      <th>3</th>\n",
       "      <td>Hard</td>\n",
       "      <td>A</td>\n",
       "      <td>2015-01-04</td>\n",
       "      <td>kei nishikori</td>\n",
       "      <td>steve johnson</td>\n",
       "      <td>178</td>\n",
       "      <td>25.018480</td>\n",
       "      <td>5</td>\n",
       "      <td>5025</td>\n",
       "      <td>188</td>\n",
       "      <td>25.032170</td>\n",
       "      <td>37</td>\n",
       "      <td>999</td>\n",
       "      <td>1.08</td>\n",
       "      <td>8.00</td>\n",
       "      <td>1</td>\n",
       "    </tr>\n",
       "    <tr>\n",
       "      <th>5</th>\n",
       "      <td>Hard</td>\n",
       "      <td>A</td>\n",
       "      <td>2015-01-04</td>\n",
       "      <td>milos raonic</td>\n",
       "      <td>mikhail kukushkin</td>\n",
       "      <td>196</td>\n",
       "      <td>24.024641</td>\n",
       "      <td>8</td>\n",
       "      <td>4440</td>\n",
       "      <td>183</td>\n",
       "      <td>27.028063</td>\n",
       "      <td>69</td>\n",
       "      <td>705</td>\n",
       "      <td>1.22</td>\n",
       "      <td>4.00</td>\n",
       "      <td>1</td>\n",
       "    </tr>\n",
       "  </tbody>\n",
       "</table>\n",
       "</div>"
      ],
      "text/plain": [
       "  surface tourney_level tourney_date      winner_name         loser_name  \\\n",
       "0    Hard             A   2015-01-04  james duckworth       gilles simon   \n",
       "1    Hard             A   2015-01-04  grigor dimitrov      martin klizan   \n",
       "2    Hard             A   2015-01-04    roger federer    james duckworth   \n",
       "3    Hard             A   2015-01-04    kei nishikori      steve johnson   \n",
       "5    Hard             A   2015-01-04     milos raonic  mikhail kukushkin   \n",
       "\n",
       "   winner_ht  winner_age  winner_rank  winner_rank_points  loser_ht  \\\n",
       "0        183   22.956879          125                 430       183   \n",
       "1        188   23.641342           11                3645       190   \n",
       "2        185   33.409993            2                9625       183   \n",
       "3        178   25.018480            5                5025       188   \n",
       "5        196   24.024641            8                4440       183   \n",
       "\n",
       "   loser_age  loser_rank  loser_rank_points  winner_k  loser_k  target  \n",
       "0  30.023272          21               1730      4.50     1.18       0  \n",
       "1  25.486653          34               1094      1.28     3.50       1  \n",
       "2  22.956879         125                430      1.05    11.00       1  \n",
       "3  25.032170          37                999      1.08     8.00       1  \n",
       "5  27.028063          69                705      1.22     4.00       1  "
      ]
     },
     "execution_count": 17,
     "metadata": {},
     "output_type": "execute_result"
    }
   ],
   "source": [
    "df_atp.head()"
   ]
  },
  {
   "cell_type": "code",
   "execution_count": 18,
   "metadata": {
    "collapsed": false
   },
   "outputs": [
    {
     "data": {
      "image/jpeg": "[encoded data removed]",
      "text/plain": [
       "<IPython.core.display.Image object>"
      ]
     },
     "execution_count": 18,
     "metadata": {
      "image/jpeg": {
       "width": 300
      }
     },
     "output_type": "execute_result"
    }
   ],
   "source": [
    "Image(\"http://s4.pikabu.ru/post_img/big/2014/12/07/11/1417978240_1193688783.jpg\", \n",
    "      width = 300)"
   ]
  }
 ],
 "metadata": {
  "kernelspec": {
   "display_name": "Python 3",
   "language": "python",
   "name": "python3"
  },
  "language_info": {
   "codemirror_mode": {
    "name": "ipython",
    "version": 3
   },
   "file_extension": ".py",
   "mimetype": "text/x-python",
   "name": "python",
   "nbconvert_exporter": "python",
   "pygments_lexer": "ipython3",
   "version": "3.5.1"
  }
 },
 "nbformat": 4,
 "nbformat_minor": 0
}
