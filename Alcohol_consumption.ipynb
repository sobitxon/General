{
 "cells": [
  {
   "cell_type": "markdown",
   "metadata": {},
   "source": [
    "\n",
    "#### German Sokolov"
   ]
  },
  {
   "cell_type": "code",
   "execution_count": 1,
   "metadata": {
    "collapsed": true
   },
   "outputs": [],
   "source": [
    "import pandas as pd\n",
    "import numpy as np\n",
    "import matplotlib.pyplot as plt\n",
    "import seaborn as sns\n",
    "from sklearn import preprocessing\n",
    "from sklearn.feature_selection import SelectFromModel\n",
    "from sklearn.linear_model import Ridge\n",
    "from sklearn.tree import DecisionTreeRegressor\n",
    "from sklearn.ensemble import ExtraTreesRegressor\n",
    "from sklearn.grid_search import GridSearchCV\n",
    "plt.style.use(\"ggplot\")\n",
    "%matplotlib inline"
   ]
  },
  {
   "cell_type": "markdown",
   "metadata": {},
   "source": [
    "There are two parts of one dataset - students who take either **Math (395 obs) or Portuguese (649 obs) course**."
   ]
  },
  {
   "cell_type": "code",
   "execution_count": 2,
   "metadata": {
    "collapsed": false
   },
   "outputs": [
    {
     "name": "stdout",
     "output_type": "stream",
     "text": [
      "There are 395 observations in dataset\n",
      "There are 649 observations in dataset\n"
     ]
    }
   ],
   "source": [
    "# Create separate dataframes for both datasets (Portuguese and Math course)\n",
    "df_mat = pd.read_csv(\"student-mat.csv\", sep = \";\")\n",
    "print (\"There are {} observations in dataset\".format(df_mat.shape[0]))\n",
    "df_por = pd.read_csv(\"student-por.csv\", sep = \";\")\n",
    "print (\"There are {} observations in dataset\".format(df_por.shape[0]))"
   ]
  },
  {
   "cell_type": "markdown",
   "metadata": {},
   "source": [
    "Take a look at any of them:"
   ]
  },
  {
   "cell_type": "code",
   "execution_count": 3,
   "metadata": {
    "collapsed": false,
    "scrolled": true
   },
   "outputs": [
    {
     "data": {
      "text/html": [
       "<div>\n",
       "<table border=\"1\" class=\"dataframe\">\n",
       "  <thead>\n",
       "    <tr style=\"text-align: right;\">\n",
       "      <th></th>\n",
       "      <th>school</th>\n",
       "      <th>sex</th>\n",
       "      <th>age</th>\n",
       "      <th>address</th>\n",
       "      <th>famsize</th>\n",
       "      <th>Pstatus</th>\n",
       "      <th>Medu</th>\n",
       "      <th>Fedu</th>\n",
       "      <th>Mjob</th>\n",
       "      <th>Fjob</th>\n",
       "      <th>...</th>\n",
       "      <th>famrel</th>\n",
       "      <th>freetime</th>\n",
       "      <th>goout</th>\n",
       "      <th>Dalc</th>\n",
       "      <th>Walc</th>\n",
       "      <th>health</th>\n",
       "      <th>absences</th>\n",
       "      <th>G1</th>\n",
       "      <th>G2</th>\n",
       "      <th>G3</th>\n",
       "    </tr>\n",
       "  </thead>\n",
       "  <tbody>\n",
       "    <tr>\n",
       "      <th>0</th>\n",
       "      <td>GP</td>\n",
       "      <td>F</td>\n",
       "      <td>18</td>\n",
       "      <td>U</td>\n",
       "      <td>GT3</td>\n",
       "      <td>A</td>\n",
       "      <td>4</td>\n",
       "      <td>4</td>\n",
       "      <td>at_home</td>\n",
       "      <td>teacher</td>\n",
       "      <td>...</td>\n",
       "      <td>4</td>\n",
       "      <td>3</td>\n",
       "      <td>4</td>\n",
       "      <td>1</td>\n",
       "      <td>1</td>\n",
       "      <td>3</td>\n",
       "      <td>6</td>\n",
       "      <td>5</td>\n",
       "      <td>6</td>\n",
       "      <td>6</td>\n",
       "    </tr>\n",
       "    <tr>\n",
       "      <th>1</th>\n",
       "      <td>GP</td>\n",
       "      <td>F</td>\n",
       "      <td>17</td>\n",
       "      <td>U</td>\n",
       "      <td>GT3</td>\n",
       "      <td>T</td>\n",
       "      <td>1</td>\n",
       "      <td>1</td>\n",
       "      <td>at_home</td>\n",
       "      <td>other</td>\n",
       "      <td>...</td>\n",
       "      <td>5</td>\n",
       "      <td>3</td>\n",
       "      <td>3</td>\n",
       "      <td>1</td>\n",
       "      <td>1</td>\n",
       "      <td>3</td>\n",
       "      <td>4</td>\n",
       "      <td>5</td>\n",
       "      <td>5</td>\n",
       "      <td>6</td>\n",
       "    </tr>\n",
       "    <tr>\n",
       "      <th>2</th>\n",
       "      <td>GP</td>\n",
       "      <td>F</td>\n",
       "      <td>15</td>\n",
       "      <td>U</td>\n",
       "      <td>LE3</td>\n",
       "      <td>T</td>\n",
       "      <td>1</td>\n",
       "      <td>1</td>\n",
       "      <td>at_home</td>\n",
       "      <td>other</td>\n",
       "      <td>...</td>\n",
       "      <td>4</td>\n",
       "      <td>3</td>\n",
       "      <td>2</td>\n",
       "      <td>2</td>\n",
       "      <td>3</td>\n",
       "      <td>3</td>\n",
       "      <td>10</td>\n",
       "      <td>7</td>\n",
       "      <td>8</td>\n",
       "      <td>10</td>\n",
       "    </tr>\n",
       "    <tr>\n",
       "      <th>3</th>\n",
       "      <td>GP</td>\n",
       "      <td>F</td>\n",
       "      <td>15</td>\n",
       "      <td>U</td>\n",
       "      <td>GT3</td>\n",
       "      <td>T</td>\n",
       "      <td>4</td>\n",
       "      <td>2</td>\n",
       "      <td>health</td>\n",
       "      <td>services</td>\n",
       "      <td>...</td>\n",
       "      <td>3</td>\n",
       "      <td>2</td>\n",
       "      <td>2</td>\n",
       "      <td>1</td>\n",
       "      <td>1</td>\n",
       "      <td>5</td>\n",
       "      <td>2</td>\n",
       "      <td>15</td>\n",
       "      <td>14</td>\n",
       "      <td>15</td>\n",
       "    </tr>\n",
       "    <tr>\n",
       "      <th>4</th>\n",
       "      <td>GP</td>\n",
       "      <td>F</td>\n",
       "      <td>16</td>\n",
       "      <td>U</td>\n",
       "      <td>GT3</td>\n",
       "      <td>T</td>\n",
       "      <td>3</td>\n",
       "      <td>3</td>\n",
       "      <td>other</td>\n",
       "      <td>other</td>\n",
       "      <td>...</td>\n",
       "      <td>4</td>\n",
       "      <td>3</td>\n",
       "      <td>2</td>\n",
       "      <td>1</td>\n",
       "      <td>2</td>\n",
       "      <td>5</td>\n",
       "      <td>4</td>\n",
       "      <td>6</td>\n",
       "      <td>10</td>\n",
       "      <td>10</td>\n",
       "    </tr>\n",
       "  </tbody>\n",
       "</table>\n",
       "<p>5 rows × 33 columns</p>\n",
       "</div>"
      ],
      "text/plain": [
       "  school sex  age address famsize Pstatus  Medu  Fedu     Mjob      Fjob ...  \\\n",
       "0     GP   F   18       U     GT3       A     4     4  at_home   teacher ...   \n",
       "1     GP   F   17       U     GT3       T     1     1  at_home     other ...   \n",
       "2     GP   F   15       U     LE3       T     1     1  at_home     other ...   \n",
       "3     GP   F   15       U     GT3       T     4     2   health  services ...   \n",
       "4     GP   F   16       U     GT3       T     3     3    other     other ...   \n",
       "\n",
       "  famrel freetime  goout  Dalc  Walc health absences  G1  G2  G3  \n",
       "0      4        3      4     1     1      3        6   5   6   6  \n",
       "1      5        3      3     1     1      3        4   5   5   6  \n",
       "2      4        3      2     2     3      3       10   7   8  10  \n",
       "3      3        2      2     1     1      5        2  15  14  15  \n",
       "4      4        3      2     1     2      5        4   6  10  10  \n",
       "\n",
       "[5 rows x 33 columns]"
      ]
     },
     "execution_count": 3,
     "metadata": {},
     "output_type": "execute_result"
    }
   ],
   "source": [
    "df_mat.head()"
   ]
  },
  {
   "cell_type": "markdown",
   "metadata": {},
   "source": [
    "Let's create new variable to identify which course the students belong to:"
   ]
  },
  {
   "cell_type": "code",
   "execution_count": 4,
   "metadata": {
    "collapsed": true
   },
   "outputs": [],
   "source": [
    "# If Math course, \"class\" = 1, otherwise = 0\n",
    "df_mat[\"class\"] = 1\n",
    "df_por[\"class\"] = 0"
   ]
  },
  {
   "cell_type": "markdown",
   "metadata": {},
   "source": [
    "The description of dataset states that there are **duplicate observations** in datasets, i.e. students can **visit both** classes. It is unnecessary to hold the duplicates as they have the same values of attributes, except for grades (\"G1\", \"G2, \"G3\") and \"absences\"."
   ]
  },
  {
   "cell_type": "code",
   "execution_count": 5,
   "metadata": {
    "collapsed": false
   },
   "outputs": [
    {
     "name": "stdout",
     "output_type": "stream",
     "text": [
      "Number of duplicates ind dataset - 0\n",
      "Number of duplicates ind dataset - 4\n"
     ]
    }
   ],
   "source": [
    "# The subset of columns which unambiguously identifies unique students:\n",
    "uniq_attr = [\"school\", \"sex\", \"age\", \"address\", \"famsize\", \"Pstatus\", \"Medu\",\n",
    "             \"Fedu\", \"Mjob\", \"Fjob\", \"reason\", \"guardian\", \"nursery\", \"internet\",\n",
    "             \"schoolsup\", \"famsup\", \"activities\", \"romantic\", \"famrel\", \"goout\",\n",
    "             \"health\"]\n",
    "print(\"Number of duplicates ind dataset -\", \n",
    "      df_mat.duplicated(subset = uniq_attr, keep = False).sum())\n",
    "print(\"Number of duplicates ind dataset -\", \n",
    "      df_por.duplicated(subset = uniq_attr, keep = False).sum())"
   ]
  },
  {
   "cell_type": "markdown",
   "metadata": {},
   "source": [
    "The number of duplicates should be zero for both datasets, if taking the subset of unique attribures. It is true for Math course, but there are 4 potential duplicates in Portuguese course dataframe. It is strange, but take a closer look at them:"
   ]
  },
  {
   "cell_type": "code",
   "execution_count": 6,
   "metadata": {
    "collapsed": false
   },
   "outputs": [
    {
     "data": {
      "text/html": [
       "<div>\n",
       "<table border=\"1\" class=\"dataframe\">\n",
       "  <thead>\n",
       "    <tr style=\"text-align: right;\">\n",
       "      <th></th>\n",
       "      <th>school</th>\n",
       "      <th>sex</th>\n",
       "      <th>age</th>\n",
       "      <th>address</th>\n",
       "      <th>famsize</th>\n",
       "      <th>Pstatus</th>\n",
       "      <th>Medu</th>\n",
       "      <th>Fedu</th>\n",
       "      <th>Mjob</th>\n",
       "      <th>Fjob</th>\n",
       "      <th>...</th>\n",
       "      <th>freetime</th>\n",
       "      <th>goout</th>\n",
       "      <th>Dalc</th>\n",
       "      <th>Walc</th>\n",
       "      <th>health</th>\n",
       "      <th>absences</th>\n",
       "      <th>G1</th>\n",
       "      <th>G2</th>\n",
       "      <th>G3</th>\n",
       "      <th>class</th>\n",
       "    </tr>\n",
       "  </thead>\n",
       "  <tbody>\n",
       "    <tr>\n",
       "      <th>442</th>\n",
       "      <td>MS</td>\n",
       "      <td>M</td>\n",
       "      <td>15</td>\n",
       "      <td>R</td>\n",
       "      <td>LE3</td>\n",
       "      <td>T</td>\n",
       "      <td>4</td>\n",
       "      <td>1</td>\n",
       "      <td>health</td>\n",
       "      <td>services</td>\n",
       "      <td>...</td>\n",
       "      <td>3</td>\n",
       "      <td>4</td>\n",
       "      <td>1</td>\n",
       "      <td>2</td>\n",
       "      <td>2</td>\n",
       "      <td>0</td>\n",
       "      <td>12</td>\n",
       "      <td>13</td>\n",
       "      <td>14</td>\n",
       "      <td>0</td>\n",
       "    </tr>\n",
       "    <tr>\n",
       "      <th>443</th>\n",
       "      <td>MS</td>\n",
       "      <td>M</td>\n",
       "      <td>15</td>\n",
       "      <td>R</td>\n",
       "      <td>LE3</td>\n",
       "      <td>T</td>\n",
       "      <td>4</td>\n",
       "      <td>1</td>\n",
       "      <td>health</td>\n",
       "      <td>services</td>\n",
       "      <td>...</td>\n",
       "      <td>3</td>\n",
       "      <td>4</td>\n",
       "      <td>1</td>\n",
       "      <td>2</td>\n",
       "      <td>2</td>\n",
       "      <td>7</td>\n",
       "      <td>7</td>\n",
       "      <td>9</td>\n",
       "      <td>8</td>\n",
       "      <td>0</td>\n",
       "    </tr>\n",
       "    <tr>\n",
       "      <th>453</th>\n",
       "      <td>MS</td>\n",
       "      <td>F</td>\n",
       "      <td>16</td>\n",
       "      <td>U</td>\n",
       "      <td>GT3</td>\n",
       "      <td>T</td>\n",
       "      <td>1</td>\n",
       "      <td>2</td>\n",
       "      <td>other</td>\n",
       "      <td>services</td>\n",
       "      <td>...</td>\n",
       "      <td>3</td>\n",
       "      <td>2</td>\n",
       "      <td>1</td>\n",
       "      <td>2</td>\n",
       "      <td>4</td>\n",
       "      <td>0</td>\n",
       "      <td>10</td>\n",
       "      <td>8</td>\n",
       "      <td>8</td>\n",
       "      <td>0</td>\n",
       "    </tr>\n",
       "    <tr>\n",
       "      <th>454</th>\n",
       "      <td>MS</td>\n",
       "      <td>F</td>\n",
       "      <td>16</td>\n",
       "      <td>U</td>\n",
       "      <td>GT3</td>\n",
       "      <td>T</td>\n",
       "      <td>1</td>\n",
       "      <td>2</td>\n",
       "      <td>other</td>\n",
       "      <td>services</td>\n",
       "      <td>...</td>\n",
       "      <td>3</td>\n",
       "      <td>2</td>\n",
       "      <td>1</td>\n",
       "      <td>2</td>\n",
       "      <td>4</td>\n",
       "      <td>3</td>\n",
       "      <td>9</td>\n",
       "      <td>8</td>\n",
       "      <td>8</td>\n",
       "      <td>0</td>\n",
       "    </tr>\n",
       "  </tbody>\n",
       "</table>\n",
       "<p>4 rows × 34 columns</p>\n",
       "</div>"
      ],
      "text/plain": [
       "    school sex  age address famsize Pstatus  Medu  Fedu    Mjob      Fjob  \\\n",
       "442     MS   M   15       R     LE3       T     4     1  health  services   \n",
       "443     MS   M   15       R     LE3       T     4     1  health  services   \n",
       "453     MS   F   16       U     GT3       T     1     2   other  services   \n",
       "454     MS   F   16       U     GT3       T     1     2   other  services   \n",
       "\n",
       "     ...  freetime goout  Dalc  Walc  health absences  G1  G2  G3 class  \n",
       "442  ...         3     4     1     2       2        0  12  13  14     0  \n",
       "443  ...         3     4     1     2       2        7   7   9   8     0  \n",
       "453  ...         3     2     1     2       4        0  10   8   8     0  \n",
       "454  ...         3     2     1     2       4        3   9   8   8     0  \n",
       "\n",
       "[4 rows x 34 columns]"
      ]
     },
     "execution_count": 6,
     "metadata": {},
     "output_type": "execute_result"
    }
   ],
   "source": [
    "ind_dupl_por = df_por.duplicated(subset = uniq_attr, keep = False)\n",
    "df_por.loc[ind_dupl_por, :]"
   ]
  },
  {
   "cell_type": "markdown",
   "metadata": {},
   "source": [
    "Amazingly these 4 observations differ only in Grades and Absences attributes, but still they are different objects. Firstly, let's check them separately - whether any of these 4 students also visit Math course or not. However, it turns out that the 4 students visit only course of Portuguese."
   ]
  },
  {
   "cell_type": "code",
   "execution_count": 7,
   "metadata": {
    "collapsed": false
   },
   "outputs": [
    {
     "name": "stdout",
     "output_type": "stream",
     "text": [
      "Number of duplicates ind dataset - 4\n"
     ]
    }
   ],
   "source": [
    "df_por_dup = df_por.loc[ind_dupl_por,:]\n",
    "df_temp = pd.concat([df_por_dup, df_mat], ignore_index= True)\n",
    "print(\"Number of duplicates ind dataset -\", \n",
    "      df_temp.duplicated(subset = uniq_attr, keep = False).sum())"
   ]
  },
  {
   "cell_type": "markdown",
   "metadata": {},
   "source": [
    "There are **370** \"real\" duplicate observations - people who attend both courses."
   ]
  },
  {
   "cell_type": "code",
   "execution_count": 8,
   "metadata": {
    "collapsed": false
   },
   "outputs": [
    {
     "data": {
      "text/plain": [
       "1    370\n",
       "0    370\n",
       "Name: class, dtype: int64"
      ]
     },
     "execution_count": 8,
     "metadata": {},
     "output_type": "execute_result"
    }
   ],
   "source": [
    "df_all = pd.concat([df_mat, df_por.loc[~ind_dupl_por,:]], ignore_index=True)\n",
    "ind = df_all.duplicated(subset = uniq_attr, keep = False)\n",
    "df_all.loc[ind, \"class\"].value_counts()"
   ]
  },
  {
   "cell_type": "code",
   "execution_count": 9,
   "metadata": {
    "collapsed": false,
    "scrolled": true
   },
   "outputs": [
    {
     "data": {
      "text/plain": [
       "<matplotlib.text.Text at 0x112852470>"
      ]
     },
     "execution_count": 9,
     "metadata": {},
     "output_type": "execute_result"
    },
    {
     "data": {
      "image/png": "[encoded data removed]",
      "text/plain": [
       "<matplotlib.figure.Figure at 0x112790a90>"
      ]
     },
     "metadata": {},
     "output_type": "display_data"
    }
   ],
   "source": [
    "# Remove the duplicated students and leave the math grades:\n",
    "df_all = df_all.loc[~((ind) & (df_all[\"class\"] == 0))]\n",
    "df_all.loc[(ind) & (df_all[\"class\"] == 1), \"class\"] = 2\n",
    "df_all = pd.concat([df_all, df_por_dup], ignore_index=True)\n",
    "\n",
    "fig = plt.figure(figsize=(5,5))\n",
    "ax = fig.add_subplot(111)\n",
    "plt.pie(df_all[\"class\"].value_counts(), explode = (0.05, 0.05, 0.05),\n",
    "        colors = ['yellowgreen', 'gold', 'lightskyblue'], \n",
    "        labels=[\"Both\", \"Portugal only\", 'Math only'], \n",
    "        shadow=True, startangle=90, center=(0, 0), radius= 0.8,\n",
    "        autopct='%1.1f%%')\n",
    "ax.set_aspect(\"equal\")\n",
    "plt.title(\"Breakdown of students by courses\")"
   ]
  },
  {
   "cell_type": "markdown",
   "metadata": {},
   "source": [
    "There is no point to have separate value to denote students who visit *only* math class, because this group consists of only 25 students. Instead, denote by 0 those, who visit only Portuguese course and denote by 1 the others."
   ]
  },
  {
   "cell_type": "code",
   "execution_count": 10,
   "metadata": {
    "collapsed": false
   },
   "outputs": [
    {
     "data": {
      "text/plain": [
       "1    395\n",
       "0    279\n",
       "Name: class, dtype: int64"
      ]
     },
     "execution_count": 10,
     "metadata": {},
     "output_type": "execute_result"
    }
   ],
   "source": [
    "df_all.loc[(ind) & (df_all[\"class\"] == 2), \"class\"] = 1\n",
    "df_all[\"class\"].value_counts()"
   ]
  },
  {
   "cell_type": "markdown",
   "metadata": {},
   "source": [
    "The target value is 2-dimensional (workday and weekend consumption), which leads to multiple output problem. The histogram reveals, that students tend to drink more on weekends:"
   ]
  },
  {
   "cell_type": "code",
   "execution_count": 11,
   "metadata": {
    "collapsed": false
   },
   "outputs": [
    {
     "data": {
      "text/plain": [
       "<matplotlib.text.Text at 0x1120d59e8>"
      ]
     },
     "execution_count": 11,
     "metadata": {},
     "output_type": "execute_result"
    },
    {
     "data": {
      "image/png": "[encoded data removed]",
      "text/plain": [
       "<matplotlib.figure.Figure at 0x111fba748>"
      ]
     },
     "metadata": {},
     "output_type": "display_data"
    }
   ],
   "source": [
    "plt.figure(figsize=(5,3))\n",
    "plt.hist([df_all.Dalc.values, df_all.Walc.values], \n",
    "         bins = np.arange(1, 7) - 0.5,\n",
    "         color = [\"b\", \"c\"], align = \"mid\", alpha = 0.7)\n",
    "\n",
    "plt.title(\"Distribution of alcohol consumption\")\n",
    "plt.xticks(np.arange(1, 6))\n",
    "plt.legend([\"workday\", \"weekend\"])\n",
    "plt.xlabel(\"level of consumption\")\n",
    "plt.ylabel(\"num of people\")"
   ]
  },
  {
   "cell_type": "markdown",
   "metadata": {},
   "source": [
    "The Pearson correlation is significant, but not absolute:"
   ]
  },
  {
   "cell_type": "code",
   "execution_count": 12,
   "metadata": {
    "collapsed": false
   },
   "outputs": [
    {
     "data": {
      "text/html": [
       "<div>\n",
       "<table border=\"1\" class=\"dataframe\">\n",
       "  <thead>\n",
       "    <tr style=\"text-align: right;\">\n",
       "      <th></th>\n",
       "      <th>Dalc</th>\n",
       "      <th>Walc</th>\n",
       "    </tr>\n",
       "  </thead>\n",
       "  <tbody>\n",
       "    <tr>\n",
       "      <th>Dalc</th>\n",
       "      <td>1.000000</td>\n",
       "      <td>0.613915</td>\n",
       "    </tr>\n",
       "    <tr>\n",
       "      <th>Walc</th>\n",
       "      <td>0.613915</td>\n",
       "      <td>1.000000</td>\n",
       "    </tr>\n",
       "  </tbody>\n",
       "</table>\n",
       "</div>"
      ],
      "text/plain": [
       "          Dalc      Walc\n",
       "Dalc  1.000000  0.613915\n",
       "Walc  0.613915  1.000000"
      ]
     },
     "execution_count": 12,
     "metadata": {},
     "output_type": "execute_result"
    }
   ],
   "source": [
    "df_all[[\"Dalc\", \"Walc\"]].corr()"
   ]
  },
  {
   "cell_type": "markdown",
   "metadata": {},
   "source": [
    "Many attributes are nominal, let's use LabelEncoder to convert them into factors. The grades can be incorporated into one attribute (by taking average):"
   ]
  },
  {
   "cell_type": "code",
   "execution_count": 13,
   "metadata": {
    "collapsed": false
   },
   "outputs": [
    {
     "data": {
      "text/html": [
       "<div>\n",
       "<table border=\"1\" class=\"dataframe\">\n",
       "  <thead>\n",
       "    <tr style=\"text-align: right;\">\n",
       "      <th></th>\n",
       "      <th>school</th>\n",
       "      <th>sex</th>\n",
       "      <th>age</th>\n",
       "      <th>address</th>\n",
       "      <th>famsize</th>\n",
       "      <th>Pstatus</th>\n",
       "      <th>Medu</th>\n",
       "      <th>Fedu</th>\n",
       "      <th>Mjob</th>\n",
       "      <th>Fjob</th>\n",
       "      <th>...</th>\n",
       "      <th>romantic</th>\n",
       "      <th>famrel</th>\n",
       "      <th>freetime</th>\n",
       "      <th>goout</th>\n",
       "      <th>Dalc</th>\n",
       "      <th>Walc</th>\n",
       "      <th>health</th>\n",
       "      <th>absences</th>\n",
       "      <th>class</th>\n",
       "      <th>G_aver</th>\n",
       "    </tr>\n",
       "  </thead>\n",
       "  <tbody>\n",
       "    <tr>\n",
       "      <th>0</th>\n",
       "      <td>0</td>\n",
       "      <td>0</td>\n",
       "      <td>18</td>\n",
       "      <td>1</td>\n",
       "      <td>0</td>\n",
       "      <td>0</td>\n",
       "      <td>4</td>\n",
       "      <td>4</td>\n",
       "      <td>0</td>\n",
       "      <td>4</td>\n",
       "      <td>...</td>\n",
       "      <td>0</td>\n",
       "      <td>4</td>\n",
       "      <td>3</td>\n",
       "      <td>4</td>\n",
       "      <td>1</td>\n",
       "      <td>1</td>\n",
       "      <td>3</td>\n",
       "      <td>6</td>\n",
       "      <td>1</td>\n",
       "      <td>5.666667</td>\n",
       "    </tr>\n",
       "    <tr>\n",
       "      <th>1</th>\n",
       "      <td>0</td>\n",
       "      <td>0</td>\n",
       "      <td>17</td>\n",
       "      <td>1</td>\n",
       "      <td>0</td>\n",
       "      <td>1</td>\n",
       "      <td>1</td>\n",
       "      <td>1</td>\n",
       "      <td>0</td>\n",
       "      <td>2</td>\n",
       "      <td>...</td>\n",
       "      <td>0</td>\n",
       "      <td>5</td>\n",
       "      <td>3</td>\n",
       "      <td>3</td>\n",
       "      <td>1</td>\n",
       "      <td>1</td>\n",
       "      <td>3</td>\n",
       "      <td>4</td>\n",
       "      <td>1</td>\n",
       "      <td>5.333333</td>\n",
       "    </tr>\n",
       "    <tr>\n",
       "      <th>2</th>\n",
       "      <td>0</td>\n",
       "      <td>0</td>\n",
       "      <td>15</td>\n",
       "      <td>1</td>\n",
       "      <td>1</td>\n",
       "      <td>1</td>\n",
       "      <td>1</td>\n",
       "      <td>1</td>\n",
       "      <td>0</td>\n",
       "      <td>2</td>\n",
       "      <td>...</td>\n",
       "      <td>0</td>\n",
       "      <td>4</td>\n",
       "      <td>3</td>\n",
       "      <td>2</td>\n",
       "      <td>2</td>\n",
       "      <td>3</td>\n",
       "      <td>3</td>\n",
       "      <td>10</td>\n",
       "      <td>1</td>\n",
       "      <td>8.333333</td>\n",
       "    </tr>\n",
       "    <tr>\n",
       "      <th>3</th>\n",
       "      <td>0</td>\n",
       "      <td>0</td>\n",
       "      <td>15</td>\n",
       "      <td>1</td>\n",
       "      <td>0</td>\n",
       "      <td>1</td>\n",
       "      <td>4</td>\n",
       "      <td>2</td>\n",
       "      <td>1</td>\n",
       "      <td>3</td>\n",
       "      <td>...</td>\n",
       "      <td>1</td>\n",
       "      <td>3</td>\n",
       "      <td>2</td>\n",
       "      <td>2</td>\n",
       "      <td>1</td>\n",
       "      <td>1</td>\n",
       "      <td>5</td>\n",
       "      <td>2</td>\n",
       "      <td>1</td>\n",
       "      <td>14.666667</td>\n",
       "    </tr>\n",
       "    <tr>\n",
       "      <th>4</th>\n",
       "      <td>0</td>\n",
       "      <td>0</td>\n",
       "      <td>16</td>\n",
       "      <td>1</td>\n",
       "      <td>0</td>\n",
       "      <td>1</td>\n",
       "      <td>3</td>\n",
       "      <td>3</td>\n",
       "      <td>2</td>\n",
       "      <td>2</td>\n",
       "      <td>...</td>\n",
       "      <td>0</td>\n",
       "      <td>4</td>\n",
       "      <td>3</td>\n",
       "      <td>2</td>\n",
       "      <td>1</td>\n",
       "      <td>2</td>\n",
       "      <td>5</td>\n",
       "      <td>4</td>\n",
       "      <td>1</td>\n",
       "      <td>8.666667</td>\n",
       "    </tr>\n",
       "  </tbody>\n",
       "</table>\n",
       "<p>5 rows × 32 columns</p>\n",
       "</div>"
      ],
      "text/plain": [
       "   school  sex  age  address  famsize  Pstatus  Medu  Fedu  Mjob  Fjob  \\\n",
       "0       0    0   18        1        0        0     4     4     0     4   \n",
       "1       0    0   17        1        0        1     1     1     0     2   \n",
       "2       0    0   15        1        1        1     1     1     0     2   \n",
       "3       0    0   15        1        0        1     4     2     1     3   \n",
       "4       0    0   16        1        0        1     3     3     2     2   \n",
       "\n",
       "     ...      romantic  famrel  freetime  goout  Dalc  Walc  health  absences  \\\n",
       "0    ...             0       4         3      4     1     1       3         6   \n",
       "1    ...             0       5         3      3     1     1       3         4   \n",
       "2    ...             0       4         3      2     2     3       3        10   \n",
       "3    ...             1       3         2      2     1     1       5         2   \n",
       "4    ...             0       4         3      2     1     2       5         4   \n",
       "\n",
       "   class     G_aver  \n",
       "0      1   5.666667  \n",
       "1      1   5.333333  \n",
       "2      1   8.333333  \n",
       "3      1  14.666667  \n",
       "4      1   8.666667  \n",
       "\n",
       "[5 rows x 32 columns]"
      ]
     },
     "execution_count": 13,
     "metadata": {},
     "output_type": "execute_result"
    }
   ],
   "source": [
    "# nominal attributes:\n",
    "cols_to_transform = [\"school\", \"sex\", \"address\", \"famsize\", \"Pstatus\", \n",
    "                     \"Mjob\", \"Fjob\", \"reason\", \"guardian\", \"schoolsup\", \n",
    "                     \"famsup\", \"paid\", \"activities\", \"nursery\", \"higher\", \n",
    "                     \"internet\", \"romantic\"]\n",
    "labels = []\n",
    "le = preprocessing.LabelEncoder()\n",
    "for col in cols_to_transform:\n",
    "    df_all[col] = le.fit_transform(df_all[col])\n",
    "    labels.append(list(le.classes_))\n",
    "\n",
    "df_all['G_aver'] = df_all[[\"G1\", \"G2\", \"G3\"]].mean(axis = 1)\n",
    "df_all.drop([\"G1\", \"G2\", \"G3\"], axis = 1, inplace = True)\n",
    "df_all.head()"
   ]
  },
  {
   "cell_type": "markdown",
   "metadata": {},
   "source": [
    "Let's make more graphs!"
   ]
  },
  {
   "cell_type": "code",
   "execution_count": 14,
   "metadata": {
    "collapsed": false
   },
   "outputs": [
    {
     "data": {
      "image/png": "[encoded data removed]",
      "text/plain": [
       "<matplotlib.figure.Figure at 0x1149ccbe0>"
      ]
     },
     "metadata": {},
     "output_type": "display_data"
    }
   ],
   "source": [
    "pd.options.mode.chained_assignment = None\n",
    "df_viol = df_all[['age', 'sex', 'absences', 'G_aver', 'Dalc', 'Walc']]\n",
    "# Combine Dalc and Walc levels >= 3 into single level 3:\n",
    "df_viol.loc[df_all.Dalc.isin([3, 4, 5]), 'Dalc'] = 3\n",
    "df_viol.loc[df_all.Walc.isin([3, 4, 5]), 'Walc'] = 3\n",
    "le.classes_ = np.array(labels[1], dtype='<U9')\n",
    "df_viol['sex'] = le.inverse_transform(df_viol.sex)\n",
    "\n",
    "plt.figure(figsize=(10,10))\n",
    "plt.subplot(3, 2, 1)\n",
    "sns.violinplot(x = 'Dalc', y = 'age', hue = 'sex', hue_order=[\"M\", \"F\"],\n",
    "               data = df_viol, split=True, palette=\"Set1\")\n",
    "plt.subplot(3, 2, 2)\n",
    "sns.violinplot(x = 'Walc', y = 'age', hue = 'sex', hue_order=[\"M\", \"F\"], \n",
    "               data = df_viol, split=True, palette=\"Set2\")\n",
    "\n",
    "plt.subplot(3, 2, 3)\n",
    "sns.violinplot(x = 'Dalc', y = 'absences', hue = 'sex', hue_order=[\"M\", \"F\"],\n",
    "               data = df_viol, split=True, palette=\"Set1\", cut = 0)\n",
    "plt.ylim([-1, 30])\n",
    "\n",
    "plt.subplot(3, 2, 4)\n",
    "sns.violinplot(x = 'Walc', y = 'absences', hue = 'sex', hue_order=[\"M\", \"F\"], \n",
    "               data = df_viol, split=True, palette=\"Set2\", cut = 0)\n",
    "plt.ylim([-1, 30])\n",
    "\n",
    "plt.subplot(3, 2, 5)\n",
    "sns.violinplot(x = 'Dalc', y = 'G_aver', hue = 'sex', hue_order=[\"M\", \"F\"], \n",
    "               data = df_viol, split=True, palette=\"Set1\")\n",
    "\n",
    "plt.subplot(3, 2, 6)\n",
    "sns.violinplot(x = 'Walc', y = 'G_aver', hue = 'sex', hue_order=[\"M\", \"F\"], \n",
    "               data = df_viol, split=True, palette=\"Set2\")\n",
    "\n",
    "plt.tight_layout()"
   ]
  },
  {
   "cell_type": "markdown",
   "metadata": {},
   "source": [
    "Several facts can be observed from the vilin-plots:\n",
    " * Age seems to have small affect on level of alcohol consumption\n",
    " * Absences positively affects Dalc and Walc\n",
    " * Average grades are negatively related with target varables"
   ]
  },
  {
   "cell_type": "markdown",
   "metadata": {},
   "source": [
    "Now let's find appropriate model and optimal parameters to fit the data."
   ]
  },
  {
   "cell_type": "code",
   "execution_count": 15,
   "metadata": {
    "collapsed": false
   },
   "outputs": [],
   "source": [
    "y = df_all[[\"Dalc\", \"Walc\"]]\n",
    "df_all.drop([\"Dalc\", \"Walc\"], axis = 1, inplace=True)\n",
    "X = df_all"
   ]
  },
  {
   "cell_type": "markdown",
   "metadata": {},
   "source": [
    "For this problem take into account 3 models - *DecisionTree regressor, EatraTrees regressor and Ridge regression*. The max number of features is 10 so let's take only the most important using **SelectFromModel** sklearn function. For parameters tuning we can use **GridsearchCV** due to small sample size. The number of folds in cross-validation is set to 10."
   ]
  },
  {
   "cell_type": "code",
   "execution_count": 16,
   "metadata": {
    "collapsed": false
   },
   "outputs": [
    {
     "name": "stdout",
     "output_type": "stream",
     "text": [
      "DecisionTree\n",
      "N_features - 8 ['sex', 'reason', 'famrel', 'freetime', 'goout', 'health', 'absences', 'G_aver']\n",
      "Parameters: {'max_depth': 3, 'min_samples_leaf': 10}\n",
      "Best mean MSE: 0.994415139552 \n",
      "\n",
      "ExtraTrees\n",
      "N_features - 9 ['sex', 'age', 'studytime', 'famrel', 'freetime', 'goout', 'health', 'absences', 'G_aver']\n",
      "Parameters: {'n_estimators': 10, 'max_depth': 6, 'min_samples_leaf': 10}\n",
      "Best mean MSE: 0.944894307808 \n",
      "\n",
      "Ridge\n",
      "N_features - 10 ['sex', 'famsize', 'Pstatus', 'guardian', 'studytime', 'schoolsup', 'paid', 'nursery', 'famrel', 'goout']\n",
      "Parameters: {'alpha': 35}\n",
      "Best mean MSE: 0.963295896644 \n",
      "\n"
     ]
    }
   ],
   "source": [
    "labels = [\"DecisionTree\", \"ExtraTrees\", \"Ridge\"]\n",
    "regressors = [DecisionTreeRegressor(), ExtraTreesRegressor(), Ridge()]\n",
    "params_dtr = {'max_depth': list(range(2, 8)), \n",
    "              'min_samples_leaf': list(range(2,20))\n",
    "             }\n",
    "params_etr = {'n_estimators': [10, 20, 50, 100],\n",
    "              'max_depth': list(range(2, 8)),\n",
    "              'min_samples_leaf': list(range(2,20))\n",
    "              }\n",
    "params_ridge = {'alpha': np.arange(0, 80)}\n",
    "params_gs = [params_dtr, params_etr, params_ridge]\n",
    "\n",
    "for r in regressors:\n",
    "    ind = regressors.index(r)\n",
    "    print(labels[ind])\n",
    "    sfm = SelectFromModel(r)\n",
    "    sfm.fit(X, y)\n",
    "    n_features = sfm.transform(X).shape[1]\n",
    "    print(\"N_features -\", n_features, list(X.columns[sfm.get_support()]))\n",
    "    gs = GridSearchCV(r, param_grid = params_gs[ind], \n",
    "                      cv = 10, scoring='mean_squared_error')\n",
    "    X_sc = preprocessing.scale(sfm.transform(X))\n",
    "    gs.fit(X_sc, y)\n",
    "    print('Parameters:', gs.best_params_)\n",
    "    print('Best mean MSE:', abs(gs.best_score_), \"\\n\")"
   ]
  },
  {
   "cell_type": "markdown",
   "metadata": {
    "collapsed": false
   },
   "source": [
    "The best MSE is provided by ExtraTrees regressor model."
   ]
  }
 ],
 "metadata": {
  "kernelspec": {
   "display_name": "Python 3",
   "language": "python",
   "name": "python3"
  },
  "language_info": {
   "codemirror_mode": {
    "name": "ipython",
    "version": 3
   },
   "file_extension": ".py",
   "mimetype": "text/x-python",
   "name": "python",
   "nbconvert_exporter": "python",
   "pygments_lexer": "ipython3",
   "version": "3.5.1"
  }
 },
 "nbformat": 4,
 "nbformat_minor": 0
}
